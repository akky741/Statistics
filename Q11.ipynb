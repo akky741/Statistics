{
 "cells": [
  {
   "cell_type": "code",
   "execution_count": 1,
   "metadata": {},
   "outputs": [],
   "source": [
    "from scipy import stats\n",
    "import math\n",
    "import numpy as np\n",
    "import warnings\n",
    "warnings.filterwarnings(\"ignore\")\n"
   ]
  },
  {
   "cell_type": "code",
   "execution_count": 5,
   "metadata": {},
   "outputs": [
    {
     "name": "stdout",
     "output_type": "stream",
     "text": [
      "[199. 201.]\n",
      "(198.7376089443071, 201.2623910556929)\n",
      "[199. 201.]\n",
      "(198.738325292158, 201.261674707842)\n"
     ]
    }
   ],
   "source": [
    "sample_mean = 200  \n",
    "sample_std_dev = 30\n",
    "sample_size = 2000  \n",
    "\n",
    "# Average weight of adult in Mexico with confidence interval for 94%\n",
    "\n",
    "# Using t-distribution\n",
    "confidence_interval_94 = stats.t.interval(alpha=0.94, df=sample_size-1, loc=sample_mean, scale=sample_std_dev/np.sqrt(sample_size))\n",
    "print(np.round(confidence_interval_94, 0))\n",
    "print(confidence_interval_94)\n",
    "\n",
    "# Using normal distribution\n",
    "confidence_interval_94_norm = stats.norm.interval(0.94, loc=sample_mean, scale=sample_std_dev/np.sqrt(sample_size))\n",
    "print(np.round(confidence_interval_94_norm, 0))\n",
    "print(confidence_interval_94_norm)\n"
   ]
  },
  {
   "cell_type": "code",
   "execution_count": 6,
   "metadata": {},
   "outputs": [
    {
     "name": "stdout",
     "output_type": "stream",
     "text": [
      "[199. 201.]\n",
      "(198.6214037429732, 201.3785962570268)\n",
      "[199. 201.]\n",
      "(198.62230334813333, 201.37769665186667)\n"
     ]
    }
   ],
   "source": [
    "# Average weight of adult in Mexico with confidence interval for 96%\n",
    "\n",
    "# Using t-distribution\n",
    "confidence_interval_96 = stats.t.interval(alpha=0.96, df=sample_size-1, loc=sample_mean, scale=sample_std_dev/np.sqrt(sample_size))\n",
    "print(np.round(confidence_interval_96, 0))\n",
    "print(confidence_interval_96)\n",
    "\n",
    "# Using normal distribution\n",
    "confidence_interval_96_norm = stats.norm.interval(0.96, loc=sample_mean, scale=sample_std_dev/np.sqrt(sample_size))\n",
    "print(np.round(confidence_interval_96_norm, 0))\n",
    "print(confidence_interval_96_norm)"
   ]
  },
  {
   "cell_type": "code",
   "execution_count": 7,
   "metadata": {},
   "outputs": [
    {
     "name": "stdout",
     "output_type": "stream",
     "text": [
      "[198. 202.]\n",
      "(198.4381860483216, 201.5618139516784)\n",
      "[198. 202.]\n",
      "(198.43943840429978, 201.56056159570022)\n"
     ]
    }
   ],
   "source": [
    "# Average weight of adult in Mexico with confidence interval for 98%\n",
    "\n",
    "# Using t-distribution\n",
    "confidence_interval_98 = stats.t.interval(alpha=0.98, df=sample_size-1, loc=sample_mean, scale=sample_std_dev/np.sqrt(sample_size))\n",
    "print(np.round(confidence_interval_98, 0))\n",
    "print(confidence_interval_98)\n",
    "\n",
    "# Using normal distribution\n",
    "confidence_interval_98_norm = stats.norm.interval(0.98, loc=sample_mean, scale=sample_std_dev/np.sqrt(sample_size))\n",
    "print(np.round(confidence_interval_98_norm, 0))\n",
    "print(confidence_interval_98_norm)"
   ]
  }
 ],
 "metadata": {
  "kernelspec": {
   "display_name": "base",
   "language": "python",
   "name": "python3"
  },
  "language_info": {
   "codemirror_mode": {
    "name": "ipython",
    "version": 3
   },
   "file_extension": ".py",
   "mimetype": "text/x-python",
   "name": "python",
   "nbconvert_exporter": "python",
   "pygments_lexer": "ipython3",
   "version": "3.11.4"
  }
 },
 "nbformat": 4,
 "nbformat_minor": 2
}
