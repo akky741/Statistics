{
 "cells": [
  {
   "cell_type": "markdown",
   "metadata": {},
   "source": [
    "# Q1"
   ]
  },
  {
   "cell_type": "code",
   "execution_count": null,
   "metadata": {},
   "outputs": [],
   "source": [
    "Activity\t                                     Data Type\n",
    "\n",
    "\n",
    "Number of beatings from Wife            \tDiscrete\n",
    "Results of rolling a dice\t                Discrete\n",
    "Weight of a person\t                        Continuous\n",
    "Weight of Gold\t                            Continuous\n",
    "Distance between two places\t                Continuous\n",
    "Length of a leaf\t                        Continuous\n",
    "Dog's weight\t                            Continuous\n",
    "Blue Color\t                                Discrete\n",
    "Number of kids\t                            Discrete\n",
    "Number of tickets in Indian railways\t    Discrete\n",
    "Number of times married                  \tDiscrete\n",
    "Gender (Male or Female)\t                    Discrete\n"
   ]
  },
  {
   "cell_type": "markdown",
   "metadata": {},
   "source": [
    "# Q2"
   ]
  },
  {
   "cell_type": "code",
   "execution_count": null,
   "metadata": {},
   "outputs": [],
   "source": [
    "Data\t                                           Data Type\n",
    "\n",
    "\n",
    "Gender\t                                            Nominal\n",
    "High School Class Ranking\t                        Nominal\n",
    "Celsius Temperature\t                                Interval\n",
    "Weight\t                                            Ratio\n",
    "Hair Color\t                                        Nominal\n",
    "Socioeconomic Status\t                            Ordinal\n",
    "Fahrenheit Temperature\t                            Interval\n",
    "Height\t                                            Ratio\n",
    "Type of living accommodation                    \tNominal\n",
    "Level of Agreement                                 \tNominal\n",
    "IQ(Intelligence Scale)\t                            Interval\n",
    "Sales Figures\t                                    Ratio\n",
    "Blood Group\t                                        Nominal\n",
    "Time Of Day\t                                        Ordinal\n",
    "Time on a Clock with Hands\t                        Ratio\n",
    "Number of Children\t                                Nominal\n",
    "Religious Preference\t                            Ratio\n",
    "Barometer Pressure\t                                Ratio\n",
    "SAT Scores\t                                        Interval\n",
    "Years of Education\t                                Ratio"
   ]
  },
  {
   "cell_type": "markdown",
   "metadata": {},
   "source": [
    "# Q3"
   ]
  },
  {
   "cell_type": "markdown",
   "metadata": {},
   "source": [
    " total possible outcome is 8    =  {HHH,HHT,HTT,THT,TTH,HTH,THH,TTT }\n",
    "                  Two heads & one tail  , \n",
    "                    x =3  ={HHT,THH,HTH}                 \n",
    "                 P(x)=3/8 = 0.375 \n"
   ]
  },
  {
   "cell_type": "markdown",
   "metadata": {},
   "source": [
    "# Q4"
   ]
  },
  {
   "cell_type": "markdown",
   "metadata": {},
   "source": [
    "two dice are rolled\n",
    "S={(1,1),(1,2),(1,3),(1,4),(1,5),(1,6),(2,1),(2,2),(2,3),(2,4),(2,5),(2,6),(3,1),(3,2),(3,3),(3,4),(3,5),(3,6),(4,1),(4,2),(4,3),(4,4),(4,5),(4,6),(5,1),(5,2),(5,3),(5,4),(5,5),(5,6),(6,1),(6,2),(6,3),(6,4),(6,5),(6,6)}\n",
    "n(S)=36\n",
    "(a)A={ }\n",
    "        n(A)=0\n",
    "          P(B)=(n(A))/(n(S))=0/36=0\n",
    "\n",
    "(b)B={(1,3),(2,2),(3,1)}\n",
    "           n(B)=3\n",
    "           P(B) = (n(B))/(n(S)) =1/12=0.083\n",
    "\n",
    "(c)C={(1,1),(1,2),(1,3),(1,5),(2,1),(2,2),(2,4),(2,6),(3,1),(3,3),(3,5),(3,6),(4,2),(4,4),(4,5),(4,6),(5,1),(5,3),(5,4),(5,5),(6,2),(6,3),(6,4),(6,6)}\n",
    "            n(C)=24\n",
    "           P(C) = (n(C))/(n(S)) =24/36=2/3=0.67\n",
    "\n",
    "\n",
    "\n"
   ]
  },
  {
   "cell_type": "markdown",
   "metadata": {},
   "source": [
    "# Q5"
   ]
  },
  {
   "cell_type": "markdown",
   "metadata": {},
   "source": [
    "Probability(None of the ball is blue) = 5C2/7C2\n",
    "\n",
    "   Total balls = 2+3+2 = 7\n",
    "\n",
    "    Drawing 2 balls  out of 7 (7C2) =    7!/2!(7-2)! = 21\n",
    "    Drawing 2 balls out of 5 (5C2) =   5!/2!(5-2)! = 10\n",
    "Probability(None of the ball is blue) = 5C2/7C2 = 10/21 = 0.476\n"
   ]
  },
  {
   "cell_type": "markdown",
   "metadata": {},
   "source": []
  }
 ],
 "metadata": {
  "kernelspec": {
   "display_name": "base",
   "language": "python",
   "name": "python3"
  },
  "language_info": {
   "name": "python",
   "version": "3.11.4"
  }
 },
 "nbformat": 4,
 "nbformat_minor": 2
}
