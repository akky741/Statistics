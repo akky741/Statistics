{
 "cells": [
  {
   "cell_type": "code",
   "execution_count": null,
   "metadata": {},
   "outputs": [],
   "source": [
    "'''\n",
    "When the mean and median of a dataset are equal, it indicates that the distribution of the data is approximately symmetric\n",
    "Skewness is a measure of the asymmetry of a probability distribution. There are three possible scenarios for skewness:-\n",
    "\n",
    "1.Negatively skewed (left-skewed):-\n",
    "     the tail on the left side of the peak or center of the distribution. Mean is less than median.\n",
    "2.Positively skewed (right-skewed):-\n",
    "     the tail on the right side of the peak or center of the distribution. Mean is greater than median.\n",
    "3.Symmetric (zero skewness):-\n",
    "     If the distribution is perfectly symmetric, the mean and median are equal, and the skewness is zero.\n",
    "\n",
    "'''"
   ]
  },
  {
   "cell_type": "markdown",
   "metadata": {},
   "source": [
    "# Q13"
   ]
  },
  {
   "cell_type": "code",
   "execution_count": null,
   "metadata": {},
   "outputs": [],
   "source": [
    "'''Zero skewness(Symmetric)'''"
   ]
  },
  {
   "cell_type": "markdown",
   "metadata": {},
   "source": [
    "# Q14"
   ]
  },
  {
   "cell_type": "code",
   "execution_count": null,
   "metadata": {},
   "outputs": [],
   "source": [
    "'''Right skewed'''"
   ]
  },
  {
   "cell_type": "markdown",
   "metadata": {},
   "source": [
    "# Q15"
   ]
  },
  {
   "cell_type": "code",
   "execution_count": 1,
   "metadata": {},
   "outputs": [
    {
     "data": {
      "text/plain": [
       "'Left skewed'"
      ]
     },
     "execution_count": 1,
     "metadata": {},
     "output_type": "execute_result"
    }
   ],
   "source": [
    "'''Left skewed'''"
   ]
  },
  {
   "cell_type": "markdown",
   "metadata": {},
   "source": [
    "# Q16"
   ]
  },
  {
   "cell_type": "code",
   "execution_count": 1,
   "metadata": {},
   "outputs": [
    {
     "data": {
      "text/plain": [
       "'peaked and possess thick tails '"
      ]
     },
     "execution_count": 1,
     "metadata": {},
     "output_type": "execute_result"
    }
   ],
   "source": [
    "'''The distribution of the data is peaked and possess thick tails '''"
   ]
  },
  {
   "cell_type": "markdown",
   "metadata": {},
   "source": [
    "# Q 17"
   ]
  },
  {
   "cell_type": "code",
   "execution_count": 2,
   "metadata": {},
   "outputs": [
    {
     "data": {
      "text/plain": [
       "' distribution is flat and has thin tails  '"
      ]
     },
     "execution_count": 2,
     "metadata": {},
     "output_type": "execute_result"
    }
   ],
   "source": [
    "''' The distribution of the data is flat and has thin tails  '''"
   ]
  },
  {
   "cell_type": "markdown",
   "metadata": {},
   "source": [
    "# Q18"
   ]
  },
  {
   "cell_type": "code",
   "execution_count": 3,
   "metadata": {},
   "outputs": [
    {
     "data": {
      "text/plain": [
       "'  Let’s assume above box plot is about age’s of the students in a school.\\n50% of the people are above 10 yrs old and remainig are less and students who’s age is above 15 are approx 40%\\nthis is not normal distribution.\\n\\n\\nLeft skewed, median is greater than mean\\n\\n \\nthe IQR of the data (approximately)?Approximately=18-10 = 8  '"
      ]
     },
     "execution_count": 3,
     "metadata": {},
     "output_type": "execute_result"
    }
   ],
   "source": [
    "'''  Let’s assume above box plot is about age’s of the students in a school.\n",
    "50% of the people are above 10 yrs old and remainig are less and students who’s age is above 15 are approx 40%\n",
    "this is not normal distribution.\n",
    "\n",
    "\n",
    "Left skewed, median is greater than mean\n",
    "\n",
    " \n",
    "the IQR of the data (approximately)?Approximately=18-10 = 8  '''"
   ]
  },
  {
   "cell_type": "markdown",
   "metadata": {},
   "source": [
    "# Q19"
   ]
  },
  {
   "cell_type": "code",
   "execution_count": 4,
   "metadata": {},
   "outputs": [
    {
     "data": {
      "text/plain": [
       "' By observing both the plots whisker’s level is high in boxplot 2, mean and\\nmedian are equal hence distribution is symetrical '"
      ]
     },
     "execution_count": 4,
     "metadata": {},
     "output_type": "execute_result"
    }
   ],
   "source": [
    "''' By observing both the plots whisker’s level is high in boxplot 2, mean and\n",
    "median are equal hence distribution is symetrical '''"
   ]
  },
  {
   "cell_type": "code",
   "execution_count": null,
   "metadata": {},
   "outputs": [],
   "source": []
  }
 ],
 "metadata": {
  "kernelspec": {
   "display_name": "base",
   "language": "python",
   "name": "python3"
  },
  "language_info": {
   "codemirror_mode": {
    "name": "ipython",
    "version": 3
   },
   "file_extension": ".py",
   "mimetype": "text/x-python",
   "name": "python",
   "nbconvert_exporter": "python",
   "pygments_lexer": "ipython3",
   "version": "3.11.4"
  }
 },
 "nbformat": 4,
 "nbformat_minor": 2
}
